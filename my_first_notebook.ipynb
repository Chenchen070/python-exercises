{
 "cells": [
  {
   "cell_type": "code",
   "execution_count": null,
   "id": "be8f2d53",
   "metadata": {},
   "outputs": [],
   "source": [
    "-- shortcuts for jupyter notebook"
   ]
  },
  {
   "cell_type": "code",
   "execution_count": null,
   "id": "c54feaf6",
   "metadata": {},
   "outputs": [],
   "source": [
    "-- esc + a : incert cell above"
   ]
  },
  {
   "cell_type": "code",
   "execution_count": null,
   "id": "f9feec49",
   "metadata": {},
   "outputs": [],
   "source": [
    "-- esc + b : incert cell below"
   ]
  },
  {
   "cell_type": "code",
   "execution_count": null,
   "id": "370c4b5d",
   "metadata": {},
   "outputs": [],
   "source": [
    "-- esc + dd : delete a cell"
   ]
  },
  {
   "cell_type": "code",
   "execution_count": 9,
   "id": "4b146cfd",
   "metadata": {},
   "outputs": [
    {
     "name": "stdout",
     "output_type": "stream",
     "text": [
      "good day\n"
     ]
    }
   ],
   "source": [
    "today = 'good day'\n",
    "print (today)"
   ]
  },
  {
   "cell_type": "code",
   "execution_count": 15,
   "id": "579f3fbc",
   "metadata": {},
   "outputs": [
    {
     "name": "stdout",
     "output_type": "stream",
     "text": [
      "4\n"
     ]
    }
   ],
   "source": [
    "print (2+2)"
   ]
  },
  {
   "cell_type": "code",
   "execution_count": null,
   "id": "a6e1b973",
   "metadata": {},
   "outputs": [],
   "source": []
  }
 ],
 "metadata": {
  "kernelspec": {
   "display_name": "Python 3 (ipykernel)",
   "language": "python",
   "name": "python3"
  },
  "language_info": {
   "codemirror_mode": {
    "name": "ipython",
    "version": 3
   },
   "file_extension": ".py",
   "mimetype": "text/x-python",
   "name": "python",
   "nbconvert_exporter": "python",
   "pygments_lexer": "ipython3",
   "version": "3.9.12"
  }
 },
 "nbformat": 4,
 "nbformat_minor": 5
}
