{
 "cells": [
  {
   "cell_type": "code",
   "execution_count": 3,
   "id": "27818088",
   "metadata": {},
   "outputs": [],
   "source": [
    "- 1. Define a function named is_two. It should accept one input and return True if the passed input is either the number or the string 2, False otherwise."
   ]
  },
  {
   "cell_type": "code",
   "execution_count": 35,
   "id": "840b7d2c",
   "metadata": {},
   "outputs": [
    {
     "data": {
      "text/plain": [
       "True"
      ]
     },
     "execution_count": 35,
     "metadata": {},
     "output_type": "execute_result"
    }
   ],
   "source": [
    "def is_two(n):\n",
    "    '''number 2 and string 2'''\n",
    "    return n in (2, '2')\n",
    "\n",
    "is_two(2)"
   ]
  },
  {
   "cell_type": "code",
   "execution_count": null,
   "id": "40b0dd45",
   "metadata": {},
   "outputs": [],
   "source": [
    "- 2.Define a function named is_vowel. It should return True if the passed string is a vowel, False otherwise."
   ]
  },
  {
   "cell_type": "code",
   "execution_count": 90,
   "id": "aefc91bf",
   "metadata": {},
   "outputs": [
    {
     "data": {
      "text/plain": [
       "False"
      ]
     },
     "execution_count": 90,
     "metadata": {},
     "output_type": "execute_result"
    }
   ],
   "source": [
    "def is_vowel(n):\n",
    "    return n.lower() in 'aeiou' and len(n) == 1\n",
    "\n",
    "    '''list all the vowel upper and lower case'''\n",
    "    # return n in ('a','e','i','o','u','A','E','I','O','U')\n",
    "\n",
    "is_vowel('e')"
   ]
  },
  {
   "cell_type": "code",
   "execution_count": null,
   "id": "90bd6c80",
   "metadata": {},
   "outputs": [],
   "source": [
    "- 3. Define a function named is_consonant. It should return True if the passed string is a consonant, False otherwise. Use your is_vowel function to accomplish this."
   ]
  },
  {
   "cell_type": "code",
   "execution_count": 91,
   "id": "fdd09f24",
   "metadata": {},
   "outputs": [
    {
     "data": {
      "text/plain": [
       "True"
      ]
     },
     "execution_count": 91,
     "metadata": {},
     "output_type": "execute_result"
    }
   ],
   "source": [
    "def is_consonant(n):\n",
    "    '''this is a opposite of last question, just add not'''\n",
    "    return n not in ('a','e','i','o','u','A','E','I','O','U') and len(n) == 1\n",
    "\n",
    "is_consonant('b')"
   ]
  },
  {
   "cell_type": "code",
   "execution_count": null,
   "id": "e0bf4a3c",
   "metadata": {},
   "outputs": [],
   "source": [
    "- 4. Define a function that accepts a string that is a word. The function should capitalize the first letter of the word if the word starts with a consonant."
   ]
  },
  {
   "cell_type": "code",
   "execution_count": 40,
   "id": "4a77c522",
   "metadata": {},
   "outputs": [
    {
     "data": {
      "text/plain": [
       "'Bell'"
      ]
     },
     "execution_count": 40,
     "metadata": {},
     "output_type": "execute_result"
    }
   ],
   "source": [
    "def cap_if_consonant(word):\n",
    "    '''char represent all letters in the string word'''\n",
    "    for char in word:\n",
    "        '''char[0] represents the first letter of the word'''\n",
    "        if char[0] in ('a','e','i','o','u','A','E','I','O','U'):\n",
    "            '''if the first letter is a vowel, then return the word'''\n",
    "            return word\n",
    "        else:\n",
    "            '''if the first letter is not a vowel, then capitalized the first letter'''\n",
    "            return word.capitalize()\n",
    "\n",
    "cap_if_consonant('bell')"
   ]
  },
  {
   "cell_type": "code",
   "execution_count": null,
   "id": "2598d17c",
   "metadata": {},
   "outputs": [],
   "source": [
    "- 5. Define a function named calculate_tip. It should accept a tip percentage (a number between 0 and 1) and the bill total, and return the amount to tip."
   ]
  },
  {
   "cell_type": "code",
   "execution_count": 52,
   "id": "378c0903",
   "metadata": {},
   "outputs": [
    {
     "data": {
      "text/plain": [
       "'$20.0'"
      ]
     },
     "execution_count": 52,
     "metadata": {},
     "output_type": "execute_result"
    }
   ],
   "source": [
    "def calculate_tip(x,y):\n",
    "    '''give x and y the meaning'''\n",
    "    bill_amount = x\n",
    "    tip_percentage = y\n",
    "    '''the calculation of tip'''\n",
    "    tip = x * y\n",
    "    '''return the tip in a $ format'''\n",
    "    return (f'${tip}')\n",
    "    \n",
    "calculate_tip(100,0.2)"
   ]
  },
  {
   "cell_type": "code",
   "execution_count": null,
   "id": "9443ba4a",
   "metadata": {},
   "outputs": [],
   "source": [
    "- 6. Define a function named apply_discount. It should accept a original price, and a discount percentage, and return the price after the discount is applied."
   ]
  },
  {
   "cell_type": "code",
   "execution_count": 56,
   "id": "4ba8eff8",
   "metadata": {},
   "outputs": [
    {
     "data": {
      "text/plain": [
       "'$8.0'"
      ]
     },
     "execution_count": 56,
     "metadata": {},
     "output_type": "execute_result"
    }
   ],
   "source": [
    "def apply_discount(x,y):\n",
    "    '''give x and y the meaning'''\n",
    "    original_price = x\n",
    "    discount_percentage = y\n",
    "    '''calculate the price after discount'''\n",
    "    final_price = x - x * y\n",
    "    '''return the tip in a $ format'''\n",
    "    return (f'${final_price}')\n",
    "\n",
    "apply_discount(10,0.2)"
   ]
  },
  {
   "cell_type": "code",
   "execution_count": null,
   "id": "54c50295",
   "metadata": {},
   "outputs": [],
   "source": [
    "- 7. Define a function named handle_commas. It should accept a string that is a number that contains commas in it as input, and return a number as output."
   ]
  },
  {
   "cell_type": "code",
   "execution_count": 64,
   "id": "581f4320",
   "metadata": {},
   "outputs": [
    {
     "name": "stdout",
     "output_type": "stream",
     "text": [
      "1000000000\n"
     ]
    }
   ],
   "source": [
    "def handle_commas(n):\n",
    "    no_commas = int(n.replace(',' , ''))\n",
    "    return no_commas\n",
    "\n",
    "print(handle_commas('1,000,000,000'))"
   ]
  },
  {
   "cell_type": "code",
   "execution_count": 37,
   "id": "2f002d7a",
   "metadata": {},
   "outputs": [
    {
     "name": "stdout",
     "output_type": "stream",
     "text": [
      "1000000000\n"
     ]
    }
   ],
   "source": [
    "def handle_commas(n):\n",
    "    '''return a new list that replace commas to space'''\n",
    "    return int(n.replace(',' , ''))\n",
    "\n",
    "print(handle_commas('1,000,000,000'))"
   ]
  },
  {
   "cell_type": "code",
   "execution_count": 4,
   "id": "116ad386",
   "metadata": {},
   "outputs": [],
   "source": [
    "- 8. Define a function named get_letter_grade. It should accept a number and return the letter grade associated with that number (A-F)."
   ]
  },
  {
   "cell_type": "code",
   "execution_count": 92,
   "id": "e7130729",
   "metadata": {},
   "outputs": [
    {
     "name": "stdout",
     "output_type": "stream",
     "text": [
      "80.5 is a B\n",
      "None\n"
     ]
    }
   ],
   "source": [
    "def get_letter_grade(x):\n",
    "    '''give each score range a grade, according to differ score range, print different result'''\n",
    "    if x <=100 and x >= 90 :\n",
    "        print(f'{x} is an A')\n",
    "    elif x >= 80:\n",
    "        print(f'{x} is a B')\n",
    "    elif x >= 70:\n",
    "        x(f'{x} is a C')\n",
    "    elif x >= 60:\n",
    "        print(f'{x} is a D')\n",
    "    elif x <= 59 and x >=0:\n",
    "        print(f'{x} is an F')\n",
    "    else:\n",
    "        print('Invalid number')\n",
    "        \n",
    "print(get_letter_grade(80.5))  "
   ]
  },
  {
   "cell_type": "code",
   "execution_count": null,
   "id": "2af3a075",
   "metadata": {},
   "outputs": [],
   "source": [
    "- 9. Define a function named remove_vowels that accepts a string and returns a string with all the vowels removed."
   ]
  },
  {
   "cell_type": "code",
   "execution_count": 68,
   "id": "c0f9cab7",
   "metadata": {},
   "outputs": [
    {
     "data": {
      "text/plain": [
       "'ptt,ppl,gg!'"
      ]
     },
     "execution_count": 68,
     "metadata": {},
     "output_type": "execute_result"
    }
   ],
   "source": [
    "vowels = ('a','e','i','o','u','A','E','I','O','U')\n",
    "'''set up a vowels list'''\n",
    "def remove_vowels(word):\n",
    "    '''char represents every letters in the word'''\n",
    "    for char in word:\n",
    "        '''if any letter is a vowel, remove that vowel'''\n",
    "        if char in vowels:\n",
    "            word = word.replace(char,'')\n",
    "    return word\n",
    "        \n",
    "remove_vowels('patato,apple,egg!')"
   ]
  },
  {
   "cell_type": "code",
   "execution_count": 93,
   "id": "46f23feb",
   "metadata": {},
   "outputs": [],
   "source": [
    "def remove_vowels(word):\n",
    "    output = ''\n",
    "    for char in word:\n",
    "        if is_consonant(char):\n",
    "            output += char\n",
    "    return output"
   ]
  },
  {
   "cell_type": "code",
   "execution_count": 94,
   "id": "bf0c9856",
   "metadata": {},
   "outputs": [],
   "source": [
    "def remove_vowels(word):\n",
    "    return ''.join([c for c in word if is_consonant(c)])"
   ]
  },
  {
   "cell_type": "code",
   "execution_count": null,
   "id": "c78b33c1",
   "metadata": {},
   "outputs": [],
   "source": [
    "- 10. Define a function named normalize_name. It should accept a string and return a valid python identifier, that is:\n",
    "-- anything that is not a valid python identifier should be removed\n",
    "-- leading and trailing whitespace should be removed\n",
    "-- everything should be lowercase\n",
    "-- spaces should be replaced with underscores\n",
    "-- for example:\n",
    "    -- Name will become name\n",
    "    -- First Name will become first_name\n",
    "    -- % Completed will become completed"
   ]
  },
  {
   "cell_type": "code",
   "execution_count": 120,
   "id": "86d7d6f5",
   "metadata": {},
   "outputs": [
    {
     "data": {
      "text/plain": [
       "'firstname'"
      ]
     },
     "execution_count": 120,
     "metadata": {},
     "output_type": "execute_result"
    }
   ],
   "source": [
    "not_python_identifiers = '@, #, %, &, *, !, $, ^'\n",
    "def normalize_name(string):\n",
    "    for letter in string:\n",
    "        if letter in not_python_identifiers:\n",
    "            string = string.replace(letter, '')\n",
    "    return string.lower().strip().replace(' ', '_')\n",
    "\n",
    "normalize_name('First Name')"
   ]
  },
  {
   "cell_type": "code",
   "execution_count": 125,
   "id": "2a06b689",
   "metadata": {},
   "outputs": [
    {
     "data": {
      "text/plain": [
       "'firstname'"
      ]
     },
     "execution_count": 125,
     "metadata": {},
     "output_type": "execute_result"
    }
   ],
   "source": [
    "not_python_identifiers = '@, #, %, &, *, !, $, ^'\n",
    "def normalize_name(string):\n",
    "    for letter in string:\n",
    "        if letter in not_python_identifiers:\n",
    "            string = string.replace(letter, '')\n",
    "    return string.lower().strip().replace(' ', '_')\n",
    "\n",
    "normalize_name('First Name')"
   ]
  },
  {
   "cell_type": "code",
   "execution_count": 109,
   "id": "ac26ee71",
   "metadata": {},
   "outputs": [
    {
     "data": {
      "text/plain": [
       "'first_name'"
      ]
     },
     "execution_count": 109,
     "metadata": {},
     "output_type": "execute_result"
    }
   ],
   "source": [
    "def remove_special_char(string):\n",
    "    return ''.join([c for c in string if c.isalnum() or c == ' '])\n",
    "\n",
    "def normalize_name(string):\n",
    "    special_char_removed = remove_special_char(string)\n",
    "    return special_char_removed.lower().strip().replace(' ', '_')\n",
    "\n",
    "normalize_name('First Name')"
   ]
  },
  {
   "cell_type": "code",
   "execution_count": 108,
   "id": "303ff78a",
   "metadata": {},
   "outputs": [
    {
     "data": {
      "text/plain": [
       "True"
      ]
     },
     "execution_count": 108,
     "metadata": {},
     "output_type": "execute_result"
    }
   ],
   "source": [
    "normalize_name('First Name') == 'first_name'"
   ]
  },
  {
   "cell_type": "code",
   "execution_count": 21,
   "id": "57d9f907",
   "metadata": {},
   "outputs": [
    {
     "name": "stdout",
     "output_type": "stream",
     "text": [
      "one+one is NOT a valid identifier\n",
      "\n",
      "dani_bojado is a valid identifier\n",
      "dani_bojado\n",
      "first_name is a valid identifier\n",
      "first_name\n"
     ]
    }
   ],
   "source": [
    "def normalize_name(text):\n",
    "    new_string = (text.strip(\"0123456789 \").lower().replace(\" \", \"_\"))\n",
    "    output = \"\"\n",
    "    if new_string.isidentifier() == True:\n",
    "        print(new_string, 'is a valid identifier')\n",
    "        for i in new_string:\n",
    "            if i not in \"!@#$%^&*()+=-[]{}\\/|?.<>,`~\":\n",
    "                output += i\n",
    "    else: \n",
    "        print(new_string, 'is NOT a valid identifier')\n",
    "    return print(output)\n",
    "\n",
    "normalize_name(\"one+one\")\n",
    "normalize_name(\" Dani Bojado \") \n",
    "normalize_name('First Name') "
   ]
  },
  {
   "cell_type": "code",
   "execution_count": null,
   "id": "7f372c64",
   "metadata": {},
   "outputs": [],
   "source": [
    "- 11. Write a function named cumulative_sum that accepts a list of numbers and returns a list that is the cumulative sum of the numbers in the list.\n",
    "-- cumulative_sum([1, 1, 1]) returns [1, 2, 3]\n",
    "-- cumulative_sum([1, 2, 3, 4]) returns [1, 3, 6, 10]"
   ]
  },
  {
   "cell_type": "code",
   "execution_count": 32,
   "id": "4b5d9b12",
   "metadata": {},
   "outputs": [
    {
     "data": {
      "text/plain": [
       "[1, 4]"
      ]
     },
     "execution_count": 32,
     "metadata": {},
     "output_type": "execute_result"
    }
   ],
   "source": [
    "def cumulative_sum(list):\n",
    "    x = 0\n",
    "    sum_list=[]\n",
    "    for n in list:\n",
    "        x += n\n",
    "        sum_list.append(x)\n",
    "    return sum_list\n",
    "        \n",
    "\n",
    "cumulative_sum([1,3])"
   ]
  },
  {
   "cell_type": "code",
   "execution_count": 28,
   "id": "5ae89984",
   "metadata": {},
   "outputs": [
    {
     "data": {
      "text/plain": [
       "[1, 4, 9]"
      ]
     },
     "execution_count": 28,
     "metadata": {},
     "output_type": "execute_result"
    }
   ],
   "source": [
    "def cumulative_sum(num_list):\n",
    "    return [sum(num_list[:i+1]) for i in range(len(num_list))]\n",
    "\n",
    "cumulative_sum([1,3,5])"
   ]
  },
  {
   "cell_type": "code",
   "execution_count": 33,
   "id": "c298619f",
   "metadata": {},
   "outputs": [
    {
     "data": {
      "text/plain": [
       "[1, 11, 14]"
      ]
     },
     "execution_count": 33,
     "metadata": {},
     "output_type": "execute_result"
    }
   ],
   "source": [
    "def cumsum(list):\n",
    "    s = list\n",
    "    for number in range(1, len(s)):\n",
    "        s[number] += s[number - 1]\n",
    "    return s\n",
    "\n",
    "cumulative_sum([1,10,3])"
   ]
  },
  {
   "cell_type": "code",
   "execution_count": null,
   "id": "9c51f94a",
   "metadata": {},
   "outputs": [],
   "source": []
  }
 ],
 "metadata": {
  "kernelspec": {
   "display_name": "Python 3 (ipykernel)",
   "language": "python",
   "name": "python3"
  },
  "language_info": {
   "codemirror_mode": {
    "name": "ipython",
    "version": 3
   },
   "file_extension": ".py",
   "mimetype": "text/x-python",
   "name": "python",
   "nbconvert_exporter": "python",
   "pygments_lexer": "ipython3",
   "version": "3.9.12"
  }
 },
 "nbformat": 4,
 "nbformat_minor": 5
}
